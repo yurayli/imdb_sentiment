{
 "cells": [
  {
   "cell_type": "code",
   "execution_count": 1,
   "metadata": {},
   "outputs": [
    {
     "name": "stderr",
     "output_type": "stream",
     "text": [
      "Using cuDNN version 5110 on context None\n",
      "Preallocating 10867/11439 Mb (0.950000) on cuda\n",
      "Mapped name None to device cuda: Tesla K80 (0000:00:1E.0)\n",
      "Using Theano backend.\n"
     ]
    }
   ],
   "source": [
    "# load libraries\n",
    "%matplotlib inline\n",
    "from utils import *\n",
    "from time import time\n",
    "from six.moves import cPickle as pickle\n",
    "from bs4 import BeautifulSoup\n",
    "import nltk\n",
    "from nltk.corpus import stopwords\n",
    "import keras.callbacks as kcb"
   ]
  },
  {
   "cell_type": "code",
   "execution_count": 2,
   "metadata": {
    "collapsed": true
   },
   "outputs": [],
   "source": [
    "path = '/input/'\n",
    "model_path = 'models/'\n",
    "if not os.path.exists(model_path): os.mkdir(model_path)"
   ]
  },
  {
   "cell_type": "code",
   "execution_count": 3,
   "metadata": {},
   "outputs": [
    {
     "name": "stdout",
     "output_type": "stream",
     "text": [
      "labeledTrainData.tsv\n",
      "testData.tsv\n",
      "test_labels.csv\n",
      "unlabeledTrainData.tsv\n"
     ]
    }
   ],
   "source": [
    "%%bash\n",
    "ls /input/"
   ]
  },
  {
   "cell_type": "code",
   "execution_count": 12,
   "metadata": {
    "collapsed": true
   },
   "outputs": [],
   "source": [
    "train = pd.read_pickle(path+'train.pickle')\n",
    "test = pd.read_pickle(path+'test.pickle')\n",
    "ul_train = pd.read_pickle(path+'ul_train.pickle')"
   ]
  },
  {
   "cell_type": "code",
   "execution_count": 4,
   "metadata": {
    "collapsed": true
   },
   "outputs": [],
   "source": [
    "# import data\n",
    "ul_train = pd.read_csv(path+'unlabeledTrainData.tsv', sep='\\t', header=0, quoting=3)\n",
    "train = pd.read_csv(path+'labeledTrainData.tsv', sep='\\t')\n",
    "test = pd.read_csv(path+'testData.tsv', sep='\\t')"
   ]
  },
  {
   "cell_type": "code",
   "execution_count": 5,
   "metadata": {},
   "outputs": [
    {
     "data": {
      "text/plain": [
       "((50000, 2), (25000, 3), (25000, 2))"
      ]
     },
     "execution_count": 5,
     "metadata": {},
     "output_type": "execute_result"
    }
   ],
   "source": [
    "ul_train.shape, train.shape, test.shape"
   ]
  },
  {
   "cell_type": "code",
   "execution_count": 6,
   "metadata": {},
   "outputs": [
    {
     "data": {
      "text/plain": [
       "(68.3608865737915, 34.14770317077637, 33.21155548095703)"
      ]
     },
     "execution_count": 6,
     "metadata": {},
     "output_type": "execute_result"
    }
   ],
   "source": [
    "from sys import getsizeof\n",
    "getsizeof(ul_train)/float(2**20), getsizeof(train)/float(2**20), getsizeof(test)/float(2**20)"
   ]
  },
  {
   "cell_type": "code",
   "execution_count": 7,
   "metadata": {},
   "outputs": [
    {
     "name": "stdout",
     "output_type": "stream",
     "text": [
      "<class 'pandas.core.frame.DataFrame'>\n",
      "RangeIndex: 25000 entries, 0 to 24999\n",
      "Data columns (total 3 columns):\n",
      "id           25000 non-null object\n",
      "sentiment    25000 non-null int64\n",
      "review       25000 non-null object\n",
      "dtypes: int64(1), object(2)\n",
      "memory usage: 586.0+ KB\n"
     ]
    }
   ],
   "source": [
    "# see the content in 'train'\n",
    "train.info()"
   ]
  },
  {
   "cell_type": "code",
   "execution_count": 5,
   "metadata": {
    "collapsed": true
   },
   "outputs": [],
   "source": [
    "vocab_size = 50000\n",
    "tokenizer = Tokenizer(nb_words=vocab_size)\n",
    "tokenizer.fit_on_texts(train['review'])\n",
    "trn_feature = tokenizer.texts_to_sequences(train['review'])\n",
    "tt_feature = tokenizer.texts_to_sequences(test['review'])\n",
    "ul_trn_feature = tokenizer.texts_to_sequences(ul_train['review'])"
   ]
  },
  {
   "cell_type": "code",
   "execution_count": 6,
   "metadata": {
    "collapsed": true
   },
   "outputs": [],
   "source": [
    "from sklearn.model_selection import train_test_split\n",
    "train_x, val_x, train_y, val_y = train_test_split(\n",
    "    trn_feature, train['sentiment'], test_size=0.15, random_state=35)\n",
    "\n",
    "seq_len = 500\n",
    "train_x = sequence.pad_sequences(train_x, maxlen=seq_len, value=0)\n",
    "val_x = sequence.pad_sequences(val_x, maxlen=seq_len, value=0)"
   ]
  },
  {
   "cell_type": "code",
   "execution_count": 7,
   "metadata": {
    "collapsed": true
   },
   "outputs": [],
   "source": [
    "test_x = sequence.pad_sequences(tt_feature, maxlen=seq_len, value=0)\n",
    "test_y = pd.read_csv(path+'test_labels.csv')['sentiment'].values"
   ]
  },
  {
   "cell_type": "code",
   "execution_count": 47,
   "metadata": {
    "collapsed": true
   },
   "outputs": [],
   "source": [
    "from sklearn.model_selection import train_test_split\n",
    "train_x, val_x, train_y, val_y = train_test_split(\n",
    "    trn_feature, train['sentiment'], test_size=0.15, random_state=35)\n",
    "\n",
    "seq_len = 500\n",
    "train_x = sequence.pad_sequences(train_x, maxlen=seq_len, value=0)\n",
    "val_x = sequence.pad_sequences(val_x, maxlen=seq_len, value=0)"
   ]
  },
  {
   "cell_type": "code",
   "execution_count": 23,
   "metadata": {
    "collapsed": true
   },
   "outputs": [],
   "source": [
    "# callback function during training\n",
    "class CallMetric(kcb.Callback):\n",
    "    def on_train_begin(self, logs={}):\n",
    "        self.accs = []\n",
    "        self.val_accs = []\n",
    "        self.losses = []\n",
    "        self.val_losses = []\n",
    "    def on_epoch_end(self, batch, logs={}):\n",
    "        self.accs.append(logs.get('acc'))\n",
    "        self.val_accs.append(logs.get('val_acc'))\n",
    "        self.losses.append(logs.get('loss'))\n",
    "        self.val_losses.append(logs.get('val_loss'))"
   ]
  },
  {
   "cell_type": "markdown",
   "metadata": {},
   "source": [
    "### FastText"
   ]
  },
  {
   "cell_type": "code",
   "execution_count": 49,
   "metadata": {
    "collapsed": true
   },
   "outputs": [],
   "source": [
    "from keras.layers import GlobalAveragePooling1D"
   ]
  },
  {
   "cell_type": "code",
   "execution_count": 71,
   "metadata": {
    "collapsed": true
   },
   "outputs": [],
   "source": [
    "fast = Sequential([\n",
    "    Embedding(vocab_size, 64, input_length=seq_len, dropout=0.35),\n",
    "    GlobalAveragePooling1D(),\n",
    "    Dense(1, activation='sigmoid')])\n",
    "fast.compile(loss='binary_crossentropy', optimizer='adam', metrics=['accuracy'])"
   ]
  },
  {
   "cell_type": "code",
   "execution_count": 72,
   "metadata": {
    "collapsed": true
   },
   "outputs": [
    {
     "name": "stdout",
     "output_type": "stream",
     "text": [
      "Train on 21250 samples, validate on 3750 samples\n",
      "Epoch 1/12\n",
      "21250/21250 [==============================] - 1s - loss: 0.6724 - acc: 0.6569 - val_loss: 0.6293 - val_acc: 0.7893\n",
      "Epoch 2/12\n",
      "21250/21250 [==============================] - ETA: 0s - loss: 0.5761 - acc: 0.782 - 1s - loss: 0.5752 - acc: 0.7818 - val_loss: 0.5127 - val_acc: 0.8424\n",
      "Epoch 3/12\n",
      "21250/21250 [==============================] - 1s - loss: 0.4760 - acc: 0.8291 - val_loss: 0.4277 - val_acc: 0.8765\n",
      "Epoch 4/12\n",
      "21250/21250 [==============================] - 1s - loss: 0.4059 - acc: 0.8544 - val_loss: 0.3731 - val_acc: 0.8867\n",
      "Epoch 5/12\n",
      "21250/21250 [==============================] - 1s - loss: 0.3547 - acc: 0.8742 - val_loss: 0.3368 - val_acc: 0.8989\n",
      "Epoch 6/12\n",
      "21250/21250 [==============================] - 1s - loss: 0.3233 - acc: 0.8836 - val_loss: 0.3125 - val_acc: 0.9021\n",
      "Epoch 7/12\n",
      "21250/21250 [==============================] - 1s - loss: 0.2963 - acc: 0.8929 - val_loss: 0.2942 - val_acc: 0.9048\n",
      "Epoch 8/12\n",
      "21250/21250 [==============================] - 1s - loss: 0.2700 - acc: 0.9072 - val_loss: 0.2869 - val_acc: 0.8965\n",
      "Epoch 9/12\n",
      "21250/21250 [==============================] - 1s - loss: 0.2574 - acc: 0.9080 - val_loss: 0.2750 - val_acc: 0.9075\n",
      "Epoch 10/12\n",
      "21250/21250 [==============================] - 1s - loss: 0.2394 - acc: 0.9139 - val_loss: 0.2666 - val_acc: 0.9115\n",
      "Epoch 11/12\n",
      "21250/21250 [==============================] - 1s - loss: 0.2296 - acc: 0.9184 - val_loss: 0.2608 - val_acc: 0.9051\n",
      "Epoch 12/12\n",
      "21250/21250 [==============================] - 1s - loss: 0.2151 - acc: 0.9231 - val_loss: 0.2560 - val_acc: 0.9085\n"
     ]
    },
    {
     "data": {
      "text/plain": [
       "<keras.callbacks.History at 0x7fd45b404350>"
      ]
     },
     "execution_count": 72,
     "metadata": {},
     "output_type": "execute_result"
    }
   ],
   "source": [
    "fast.fit(train_x, train_y, validation_data=(val_x, val_y), batch_size=64, nb_epoch=12)"
   ]
  },
  {
   "cell_type": "code",
   "execution_count": 73,
   "metadata": {},
   "outputs": [
    {
     "data": {
      "text/plain": [
       "0.96429368038200836"
      ]
     },
     "execution_count": 73,
     "metadata": {},
     "output_type": "execute_result"
    }
   ],
   "source": [
    "pred_val = fast.predict(val_x, batch_size=128)\n",
    "roc_auc_score(val_y, pred_val)"
   ]
  },
  {
   "cell_type": "code",
   "execution_count": 75,
   "metadata": {},
   "outputs": [
    {
     "data": {
      "text/html": [
       "<p>The submission is <a href=\"imdb_fast.csv\">here</a>.</p>"
      ],
      "text/plain": [
       "<IPython.core.display.HTML object>"
      ]
     },
     "execution_count": 75,
     "metadata": {},
     "output_type": "execute_result"
    }
   ],
   "source": [
    "pred = fast.predict(test_x, batch_size=128)\n",
    "submit = pd.DataFrame({ 'id': test['id'], 'sentiment': pred[:,0] })\n",
    "submit.to_csv('imdb_fast.csv', index=False)\n",
    "from IPython.display import HTML\n",
    "HTML('<p>The submission is <a href=\"imdb_fast.csv\">here</a>.</p>')"
   ]
  },
  {
   "cell_type": "markdown",
   "metadata": {},
   "source": [
    "Add one hidden layer"
   ]
  },
  {
   "cell_type": "code",
   "execution_count": 67,
   "metadata": {
    "collapsed": true
   },
   "outputs": [],
   "source": [
    "fast = Sequential([\n",
    "    Embedding(vocab_size, 64, input_length=seq_len, dropout=0.35),\n",
    "    GlobalAveragePooling1D(),\n",
    "    Dense(128, activation='relu'),\n",
    "    Dropout(0.75),\n",
    "    Dense(1, activation='sigmoid')])\n",
    "fast.compile(loss='binary_crossentropy', optimizer='adam', metrics=['accuracy'])\n",
    "#checkpointer = kcb.ModelCheckpoint(filepath=model_path+\"imdb_fast_1.h5\", monitor='val_loss', \n",
    "#                                   save_best_only=True, verbose=1)"
   ]
  },
  {
   "cell_type": "code",
   "execution_count": 68,
   "metadata": {},
   "outputs": [
    {
     "name": "stdout",
     "output_type": "stream",
     "text": [
      "Train on 21250 samples, validate on 3750 samples\n",
      "Epoch 1/4\n",
      "21250/21250 [==============================] - 1s - loss: 0.6324 - acc: 0.6548 - val_loss: 0.4289 - val_acc: 0.8691\n",
      "Epoch 2/4\n",
      "21250/21250 [==============================] - 1s - loss: 0.3760 - acc: 0.8468 - val_loss: 0.2807 - val_acc: 0.9027\n",
      "Epoch 3/4\n",
      "21250/21250 [==============================] - 1s - loss: 0.2860 - acc: 0.8883 - val_loss: 0.3119 - val_acc: 0.8600\n",
      "Epoch 4/4\n",
      "21250/21250 [==============================] - 1s - loss: 0.2427 - acc: 0.9059 - val_loss: 0.2608 - val_acc: 0.8992\n"
     ]
    },
    {
     "data": {
      "text/plain": [
       "<keras.callbacks.History at 0x7fd45bb59390>"
      ]
     },
     "execution_count": 68,
     "metadata": {},
     "output_type": "execute_result"
    }
   ],
   "source": [
    "fast.fit(train_x, train_y, validation_data=(val_x, val_y), batch_size=64, nb_epoch=4)"
   ]
  },
  {
   "cell_type": "code",
   "execution_count": 69,
   "metadata": {},
   "outputs": [
    {
     "data": {
      "text/plain": [
       "0.96437248783463303"
      ]
     },
     "execution_count": 69,
     "metadata": {},
     "output_type": "execute_result"
    }
   ],
   "source": [
    "pred_val = fast.predict(val_x, batch_size=128)\n",
    "roc_auc_score(val_y, pred_val)"
   ]
  },
  {
   "cell_type": "markdown",
   "metadata": {},
   "source": [
    "### Neural net"
   ]
  },
  {
   "cell_type": "code",
   "execution_count": 577,
   "metadata": {
    "collapsed": true
   },
   "outputs": [],
   "source": [
    "def build_nn(embedding_dim, hidden_dim, optimizer=Adam()):\n",
    "    inp = Input(shape=(seq_len,), dtype='int32', name='model_input')\n",
    "    emb = Embedding(vocab_size, embedding_dim, input_length=seq_len, dropout=0.3)(inp)\n",
    "    x = Flatten()(emb)\n",
    "    x = Dense(hidden_dim, activation='relu')(x)\n",
    "    x = Dropout(0.75)(x)\n",
    "    x = Dense(1, activation='sigmoid')(x)\n",
    "    net = Model(inp, x)\n",
    "    net.compile(optimizer, loss='binary_crossentropy', metrics=['accuracy'])\n",
    "    return net"
   ]
  },
  {
   "cell_type": "code",
   "execution_count": 580,
   "metadata": {
    "collapsed": true
   },
   "outputs": [],
   "source": [
    "net = build_nn(50, 256)"
   ]
  },
  {
   "cell_type": "code",
   "execution_count": 581,
   "metadata": {
    "scrolled": true
   },
   "outputs": [
    {
     "name": "stdout",
     "output_type": "stream",
     "text": [
      "Train on 21250 samples, validate on 3750 samples\n",
      "Epoch 1/1\n",
      "21250/21250 [==============================] - 2s - loss: 0.4898 - acc: 0.7606 - val_loss: 0.2685 - val_acc: 0.8968\n"
     ]
    },
    {
     "data": {
      "text/plain": [
       "<keras.callbacks.History at 0x7fced637ea90>"
      ]
     },
     "execution_count": 581,
     "metadata": {},
     "output_type": "execute_result"
    }
   ],
   "source": [
    "net.fit(train_x, train_y, validation_data=(val_x, val_y), nb_epoch=1, batch_size=64)"
   ]
  },
  {
   "cell_type": "code",
   "execution_count": 582,
   "metadata": {},
   "outputs": [
    {
     "data": {
      "text/plain": [
       "0.95856776416713341"
      ]
     },
     "execution_count": 582,
     "metadata": {},
     "output_type": "execute_result"
    }
   ],
   "source": [
    "pred_val = net.predict(val_x, batch_size=128)\n",
    "roc_auc_score(val_y, pred_val)"
   ]
  },
  {
   "cell_type": "markdown",
   "metadata": {},
   "source": [
    "### Convolutional net"
   ]
  },
  {
   "cell_type": "code",
   "execution_count": 13,
   "metadata": {
    "collapsed": true
   },
   "outputs": [],
   "source": [
    "from keras.layers import GlobalMaxPooling1D"
   ]
  },
  {
   "cell_type": "code",
   "execution_count": 248,
   "metadata": {
    "collapsed": true
   },
   "outputs": [],
   "source": [
    "conv = Sequential([\n",
    "    Embedding(vocab_size, 64, input_length=seq_len, dropout=0.2),\n",
    "    Dropout(0.2),\n",
    "    Convolution1D(128, 5, border_mode='same', activation='relu'),\n",
    "    GlobalMaxPooling1D(),\n",
    "    Dense(128, activation='relu'),\n",
    "    Dropout(0.75),\n",
    "    Dense(1, activation='sigmoid')])\n",
    "conv.compile(Adam(), loss='binary_crossentropy', metrics=['accuracy'])"
   ]
  },
  {
   "cell_type": "code",
   "execution_count": 106,
   "metadata": {
    "scrolled": true
   },
   "outputs": [
    {
     "name": "stdout",
     "output_type": "stream",
     "text": [
      "Train on 22500 samples, validate on 2500 samples\n",
      "Epoch 1/3\n",
      "22500/22500 [==============================] - 6s - loss: 0.5431 - acc: 0.7000 - val_loss: 0.3219 - val_acc: 0.8724\n",
      "Epoch 2/3\n",
      "22500/22500 [==============================] - 6s - loss: 0.3178 - acc: 0.8702 - val_loss: 0.2550 - val_acc: 0.9064\n",
      "Epoch 3/3\n",
      "22500/22500 [==============================] - 6s - loss: 0.2317 - acc: 0.9130 - val_loss: 0.2421 - val_acc: 0.9088\n"
     ]
    },
    {
     "data": {
      "text/plain": [
       "<keras.callbacks.History at 0x7fcf9deffb90>"
      ]
     },
     "execution_count": 106,
     "metadata": {},
     "output_type": "execute_result"
    }
   ],
   "source": [
    "conv.fit(train_x, train_y, validation_data=(val_x, val_y), nb_epoch=3, batch_size=64)"
   ]
  },
  {
   "cell_type": "code",
   "execution_count": 112,
   "metadata": {},
   "outputs": [
    {
     "data": {
      "text/plain": [
       "0.96228507402961183"
      ]
     },
     "execution_count": 112,
     "metadata": {},
     "output_type": "execute_result"
    }
   ],
   "source": [
    "from sklearn.metrics import roc_auc_score\n",
    "pred_val = conv.predict(val_x, batch_size=128)\n",
    "roc_auc_score(val_y, pred_val)"
   ]
  },
  {
   "cell_type": "code",
   "execution_count": 191,
   "metadata": {},
   "outputs": [
    {
     "data": {
      "text/html": [
       "<p>The submission is <a href=\"imdb_cnn.csv\">here</a>.</p>"
      ],
      "text/plain": [
       "<IPython.core.display.HTML object>"
      ]
     },
     "execution_count": 191,
     "metadata": {},
     "output_type": "execute_result"
    }
   ],
   "source": [
    "pred = conv.predict(test_x, batch_size=128)\n",
    "submit = pd.DataFrame({ 'id': test['id'], 'sentiment': pred[:,0] })\n",
    "submit.to_csv('imdb_cnn.csv', index=False)\n",
    "from IPython.display import HTML\n",
    "HTML('<p>The submission is <a href=\"imdb_cnn.csv\">here</a>.</p>')"
   ]
  },
  {
   "cell_type": "markdown",
   "metadata": {},
   "source": [
    "============================================================"
   ]
  },
  {
   "cell_type": "code",
   "execution_count": 107,
   "metadata": {
    "collapsed": true
   },
   "outputs": [],
   "source": [
    "conv = Sequential([\n",
    "    Embedding(vocab_size, 64, input_length=seq_len, dropout=0.2),\n",
    "    Dropout(0.2),\n",
    "    Convolution1D(48, 5, border_mode='same', activation='relu'),\n",
    "    MaxPooling1D(pool_length=4),\n",
    "    Flatten(),\n",
    "    Dense(128, activation='relu'),\n",
    "    Dropout(0.75),\n",
    "    Dense(1, activation='sigmoid')])\n",
    "conv.compile(Adam(), loss='binary_crossentropy', metrics=['accuracy'])\n",
    "#metricRecords = CallMetric()\n",
    "#checkpointer = kcb.ModelCheckpoint(filepath=model_path+\"imdb_cnn.h5\", monitor='val_loss', \n",
    "#                                   save_best_only=True, verbose=1)"
   ]
  },
  {
   "cell_type": "code",
   "execution_count": 108,
   "metadata": {
    "scrolled": false
   },
   "outputs": [
    {
     "name": "stdout",
     "output_type": "stream",
     "text": [
      "Train on 21250 samples, validate on 3750 samples\n",
      "Epoch 1/2\n",
      "21250/21250 [==============================] - 5s - loss: 0.4896 - acc: 0.7398 - val_loss: 0.2522 - val_acc: 0.9043\n",
      "Epoch 2/2\n",
      "21250/21250 [==============================] - 5s - loss: 0.2403 - acc: 0.9097 - val_loss: 0.2285 - val_acc: 0.9115\n"
     ]
    },
    {
     "data": {
      "text/plain": [
       "<keras.callbacks.History at 0x7f109a06b2d0>"
      ]
     },
     "execution_count": 108,
     "metadata": {},
     "output_type": "execute_result"
    }
   ],
   "source": [
    "conv.fit(train_x, train_y, validation_data=(val_x, val_y), nb_epoch=2, batch_size=64)"
   ]
  },
  {
   "cell_type": "code",
   "execution_count": 109,
   "metadata": {},
   "outputs": [
    {
     "data": {
      "text/plain": [
       "0.96809862937623192"
      ]
     },
     "execution_count": 109,
     "metadata": {},
     "output_type": "execute_result"
    }
   ],
   "source": [
    "from sklearn.metrics import roc_auc_score\n",
    "pred_val = conv.predict(val_x, batch_size=128)\n",
    "roc_auc_score(val_y, pred_val)"
   ]
  },
  {
   "cell_type": "code",
   "execution_count": 111,
   "metadata": {
    "collapsed": true
   },
   "outputs": [],
   "source": [
    "from sklearn.metrics import confusion_matrix\n",
    "cm = confusion_matrix(val_y, [1.0 if p>0.5 else 0.0 for p in pred_val])"
   ]
  },
  {
   "cell_type": "code",
   "execution_count": 112,
   "metadata": {},
   "outputs": [
    {
     "data": {
      "text/plain": [
       "(0.50719999999999998, 0.49280000000000002)"
      ]
     },
     "execution_count": 112,
     "metadata": {},
     "output_type": "execute_result"
    }
   ],
   "source": [
    "np.mean(np.array(val_y) == np.ones(3750)), np.mean(np.array(val_y) == np.zeros(3750))"
   ]
  },
  {
   "cell_type": "code",
   "execution_count": 113,
   "metadata": {},
   "outputs": [
    {
     "data": {
      "text/plain": [
       "array([[ 0.4467,  0.0461],\n",
       "       [ 0.0424,  0.4648]])"
      ]
     },
     "execution_count": 113,
     "metadata": {},
     "output_type": "execute_result"
    }
   ],
   "source": [
    "# confusion matrix\n",
    "cm / np.sum(cm, dtype=np.float32)"
   ]
  },
  {
   "cell_type": "code",
   "execution_count": 114,
   "metadata": {},
   "outputs": [
    {
     "name": "stdout",
     "output_type": "stream",
     "text": [
      "[[1675  173]\n",
      " [ 159 1743]]\n"
     ]
    },
    {
     "data": {
      "image/png": "[encoded data removed]",
      "text/plain": [
       "<matplotlib.figure.Figure at 0x7f1099c43e10>"
      ]
     },
     "metadata": {},
     "output_type": "display_data"
    }
   ],
   "source": [
    "plot_confusion_matrix(cm, ['negative', 'positive'])"
   ]
  },
  {
   "cell_type": "code",
   "execution_count": 116,
   "metadata": {},
   "outputs": [
    {
     "data": {
      "text/html": [
       "<p>The submission is <a href=\"imdb_cnn.csv\">here</a>.</p>"
      ],
      "text/plain": [
       "<IPython.core.display.HTML object>"
      ]
     },
     "execution_count": 116,
     "metadata": {},
     "output_type": "execute_result"
    }
   ],
   "source": [
    "pred = conv.predict(test_x, batch_size=128)\n",
    "submit = pd.DataFrame({ 'id': test['id'], 'sentiment': pred[:,0] })\n",
    "submit.to_csv('imdb_cnn.csv', index=False)\n",
    "from IPython.display import HTML\n",
    "HTML('<p>The submission is <a href=\"imdb_cnn.csv\">here</a>.</p>')"
   ]
  },
  {
   "cell_type": "markdown",
   "metadata": {},
   "source": [
    "============================================================"
   ]
  },
  {
   "cell_type": "code",
   "execution_count": 300,
   "metadata": {
    "collapsed": true
   },
   "outputs": [],
   "source": [
    "conv = Sequential([\n",
    "    Embedding(vocab_size, 64, input_length=seq_len, dropout=0.2),\n",
    "    Dropout(0.2),\n",
    "    Convolution1D(64, 5, border_mode='same', activation='relu'),\n",
    "    MaxPooling1D(),\n",
    "    Flatten(),\n",
    "    Dense(128, activation='relu'),\n",
    "    Dropout(0.75),\n",
    "    Dense(1, activation='sigmoid')])\n",
    "conv.compile(Adam(), loss='binary_crossentropy', metrics=['accuracy'])"
   ]
  },
  {
   "cell_type": "code",
   "execution_count": 301,
   "metadata": {
    "scrolled": true
   },
   "outputs": [
    {
     "name": "stdout",
     "output_type": "stream",
     "text": [
      "Train on 22500 samples, validate on 2500 samples\n",
      "Epoch 1/1\n",
      "22500/22500 [==============================] - 5s - loss: 0.4733 - acc: 0.7478 - val_loss: 0.2464 - val_acc: 0.9028\n"
     ]
    },
    {
     "data": {
      "text/plain": [
       "<keras.callbacks.History at 0x7fcf5d3e4450>"
      ]
     },
     "execution_count": 301,
     "metadata": {},
     "output_type": "execute_result"
    }
   ],
   "source": [
    "conv.fit(train_x, train_y, validation_data=(val_x, val_y), nb_epoch=1, batch_size=64)"
   ]
  },
  {
   "cell_type": "code",
   "execution_count": 322,
   "metadata": {},
   "outputs": [
    {
     "data": {
      "text/plain": [
       "0.96392284913965576"
      ]
     },
     "execution_count": 322,
     "metadata": {},
     "output_type": "execute_result"
    }
   ],
   "source": [
    "from sklearn.metrics import roc_auc_score\n",
    "pred_val = conv.predict(val_x, batch_size=128)\n",
    "roc_auc_score(val_y, pred_val)"
   ]
  },
  {
   "cell_type": "code",
   "execution_count": 285,
   "metadata": {},
   "outputs": [
    {
     "data": {
      "text/html": [
       "<p>The submission is <a href=\"imdb_cnn.csv\">here</a>.</p>"
      ],
      "text/plain": [
       "<IPython.core.display.HTML object>"
      ]
     },
     "execution_count": 285,
     "metadata": {},
     "output_type": "execute_result"
    }
   ],
   "source": [
    "pred = conv.predict(test_x, batch_size=128)\n",
    "submit = pd.DataFrame({ 'id': test['id'], 'sentiment': pred[:,0] })\n",
    "submit.to_csv('imdb_cnn.csv', index=False)\n",
    "from IPython.display import HTML\n",
    "HTML('<p>The submission is <a href=\"imdb_cnn.csv\">here</a>.</p>')"
   ]
  },
  {
   "cell_type": "markdown",
   "metadata": {},
   "source": [
    "### Multi-size CNNs"
   ]
  },
  {
   "cell_type": "code",
   "execution_count": 35,
   "metadata": {
    "collapsed": true
   },
   "outputs": [],
   "source": [
    "def build_cnn(embedding_dim):\n",
    "    inp = Input(shape=(seq_len,), dtype='int32', name='model_input')\n",
    "    emb = Embedding(vocab_size, embedding_dim, input_length=seq_len, dropout=0.2)(inp)\n",
    "    x = Dropout(0.2)(emb)\n",
    "    \n",
    "    branch3 = Convolution1D(48, 3, border_mode='same', activation='relu')(x)\n",
    "    branch5 = Convolution1D(48, 5, border_mode='same', activation='relu')(x)\n",
    "    branch7 = Convolution1D(48, 7, border_mode='same', activation='relu')(x)\n",
    "    x = merge([branch3, branch5, branch7], mode='concat', concat_axis=1)\n",
    "    \n",
    "    x = MaxPooling1D(pool_length=4)(x)\n",
    "    x = Flatten()(x)\n",
    "    \n",
    "    x = Dense(96, activation='relu')(x)\n",
    "    x = Dropout(0.75)(x)\n",
    "    x = Dense(1, activation='sigmoid')(x)\n",
    "    model = Model(inp, x)\n",
    "    model.compile(Adam(), loss='binary_crossentropy', metrics=['accuracy'])\n",
    "    return model"
   ]
  },
  {
   "cell_type": "code",
   "execution_count": 417,
   "metadata": {
    "collapsed": true
   },
   "outputs": [
    {
     "name": "stdout",
     "output_type": "stream",
     "text": [
      "____________________________________________________________________________________________________\n",
      "Layer (type)                     Output Shape          Param #     Connected to                     \n",
      "====================================================================================================\n",
      "model_input (InputLayer)         (None, 500)           0                                            \n",
      "____________________________________________________________________________________________________\n",
      "embedding_99 (Embedding)         (None, 500, 64)       3200000     model_input[0][0]                \n",
      "____________________________________________________________________________________________________\n",
      "dropout_194 (Dropout)            (None, 500, 64)       0           embedding_99[0][0]               \n",
      "____________________________________________________________________________________________________\n",
      "convolution1d_156 (Convolution1D (None, 500, 48)       9264        dropout_194[0][0]                \n",
      "____________________________________________________________________________________________________\n",
      "convolution1d_157 (Convolution1D (None, 500, 48)       15408       dropout_194[0][0]                \n",
      "____________________________________________________________________________________________________\n",
      "convolution1d_158 (Convolution1D (None, 500, 48)       21552       dropout_194[0][0]                \n",
      "____________________________________________________________________________________________________\n",
      "merge_24 (Merge)                 (None, 1500, 48)      0           convolution1d_156[0][0]          \n",
      "                                                                   convolution1d_157[0][0]          \n",
      "                                                                   convolution1d_158[0][0]          \n",
      "____________________________________________________________________________________________________\n",
      "maxpooling1d_49 (MaxPooling1D)   (None, 375, 48)       0           merge_24[0][0]                   \n",
      "____________________________________________________________________________________________________\n",
      "flatten_46 (Flatten)             (None, 18000)         0           maxpooling1d_49[0][0]            \n",
      "____________________________________________________________________________________________________\n",
      "dense_195 (Dense)                (None, 96)            1728096     flatten_46[0][0]                 \n",
      "____________________________________________________________________________________________________\n",
      "dropout_195 (Dropout)            (None, 96)            0           dense_195[0][0]                  \n",
      "____________________________________________________________________________________________________\n",
      "dense_196 (Dense)                (None, 1)             97          dropout_195[0][0]                \n",
      "====================================================================================================\n",
      "Total params: 4,974,417\n",
      "Trainable params: 4,974,417\n",
      "Non-trainable params: 0\n",
      "____________________________________________________________________________________________________\n"
     ]
    }
   ],
   "source": [
    "conv.summary()"
   ]
  },
  {
   "cell_type": "code",
   "execution_count": 75,
   "metadata": {
    "collapsed": true
   },
   "outputs": [],
   "source": [
    "conv = build_cnn(48)\n",
    "#metricRecords = CallMetric()\n",
    "#checkpointer = kcb.ModelCheckpoint(filepath=model_path+\"imdb_cnn_ms.h5\", monitor='val_acc', \n",
    "#                                   save_best_only=True, verbose=1)"
   ]
  },
  {
   "cell_type": "code",
   "execution_count": 338,
   "metadata": {},
   "outputs": [
    {
     "name": "stdout",
     "output_type": "stream",
     "text": [
      "Train on 22500 samples, validate on 2500 samples\n",
      "Epoch 1/2\n",
      "22500/22500 [==============================] - 14s - loss: 0.4926 - acc: 0.7299 - val_loss: 0.2594 - val_acc: 0.9036\n",
      "Epoch 2/2\n",
      "22500/22500 [==============================] - 14s - loss: 0.2497 - acc: 0.9076 - val_loss: 0.2340 - val_acc: 0.9116\n"
     ]
    },
    {
     "data": {
      "text/plain": [
       "<keras.callbacks.History at 0x7fcf43d66550>"
      ]
     },
     "execution_count": 338,
     "metadata": {},
     "output_type": "execute_result"
    }
   ],
   "source": [
    "conv.fit(train_x, train_y, validation_data=(val_x, val_y), nb_epoch=2, batch_size=64)"
   ]
  },
  {
   "cell_type": "code",
   "execution_count": 431,
   "metadata": {
    "scrolled": true
   },
   "outputs": [
    {
     "data": {
      "text/plain": [
       "0.96963905562224895"
      ]
     },
     "execution_count": 431,
     "metadata": {},
     "output_type": "execute_result"
    }
   ],
   "source": [
    "pred_val = conv.predict(val_x, batch_size=128)\n",
    "roc_auc_score(val_y, pred_val)"
   ]
  },
  {
   "cell_type": "code",
   "execution_count": 44,
   "metadata": {},
   "outputs": [
    {
     "data": {
      "text/html": [
       "<p>The submission is <a href=\"imdb_cnn.csv\">here</a>.</p>"
      ],
      "text/plain": [
       "<IPython.core.display.HTML object>"
      ]
     },
     "execution_count": 44,
     "metadata": {},
     "output_type": "execute_result"
    }
   ],
   "source": [
    "pred = conv.predict(test_x, batch_size=128)\n",
    "submit = pd.DataFrame({ 'id': test['id'], 'sentiment': pred[:,0] })\n",
    "submit.to_csv('imdb_cnn.csv', index=False)\n",
    "from IPython.display import HTML\n",
    "HTML('<p>The submission is <a href=\"imdb_cnn.csv\">here</a>.</p>')"
   ]
  },
  {
   "cell_type": "code",
   "execution_count": 57,
   "metadata": {
    "collapsed": true
   },
   "outputs": [],
   "source": [
    "from sklearn.metrics import confusion_matrix\n",
    "cm = confusion_matrix(val_y, [1.0 if p>0.5 else 0.0 for p in pred_val])"
   ]
  },
  {
   "cell_type": "code",
   "execution_count": 58,
   "metadata": {},
   "outputs": [
    {
     "data": {
      "text/plain": [
       "(0.49093333333333333, 0.50906666666666667)"
      ]
     },
     "execution_count": 58,
     "metadata": {},
     "output_type": "execute_result"
    }
   ],
   "source": [
    "np.mean(np.array(val_y) == np.ones(3750)), np.mean(np.array(val_y) == np.zeros(3750))"
   ]
  },
  {
   "cell_type": "code",
   "execution_count": 59,
   "metadata": {},
   "outputs": [
    {
     "data": {
      "text/plain": [
       "array([[ 0.4453,  0.0637],\n",
       "       [ 0.0272,  0.4637]])"
      ]
     },
     "execution_count": 59,
     "metadata": {},
     "output_type": "execute_result"
    }
   ],
   "source": [
    "# confusion matrix\n",
    "cm / np.sum(cm, dtype=np.float32)"
   ]
  },
  {
   "cell_type": "code",
   "execution_count": 60,
   "metadata": {},
   "outputs": [
    {
     "name": "stdout",
     "output_type": "stream",
     "text": [
      "[[1670  239]\n",
      " [ 102 1739]]\n"
     ]
    },
    {
     "data": {
      "image/png": "[encoded data removed]",
      "text/plain": [
       "<matplotlib.figure.Figure at 0x7f109fe85690>"
      ]
     },
     "metadata": {},
     "output_type": "display_data"
    }
   ],
   "source": [
    "plot_confusion_matrix(cm, ['negative', 'positive'])"
   ]
  },
  {
   "cell_type": "markdown",
   "metadata": {},
   "source": [
    "### Vanilla RNN"
   ]
  },
  {
   "cell_type": "code",
   "execution_count": 57,
   "metadata": {
    "collapsed": true
   },
   "outputs": [],
   "source": [
    "rnn = Sequential([\n",
    "    Embedding(vocab_size, 64, input_length=seq_len, mask_zero=True),\n",
    "    SimpleRNN(64, activation='relu', inner_init='identity', return_sequences=True),\n",
    "    Dropout(0.5),\n",
    "    SimpleRNN(64, activation='relu', inner_init='identity'),\n",
    "    Dropout(0.5),\n",
    "    Dense(1, activation='sigmoid')])\n",
    "rnn.compile(optimizer=RMSprop(), loss='binary_crossentropy', metrics=['accuracy'])\n",
    "#rnn.compile(optimizer=Adam(), loss='binary_crossentropy', metrics=['accuracy'])\n",
    "#metricRecords = CallMetric()\n",
    "#checkpointer = kcb.ModelCheckpoint(filepath=model_path+\"imdb_rnn.h5\", monitor='val_acc', \n",
    "#                                   save_best_only=True, verbose=1)"
   ]
  },
  {
   "cell_type": "code",
   "execution_count": 58,
   "metadata": {},
   "outputs": [
    {
     "name": "stdout",
     "output_type": "stream",
     "text": [
      "Train on 21250 samples, validate on 3750 samples\n",
      "Epoch 1/3\n",
      "21250/21250 [==============================] - 61s - loss: 4.9449 - acc: 0.5242 - val_loss: 0.6614 - val_acc: 0.5256\n",
      "Epoch 2/3\n",
      "21250/21250 [==============================] - 61s - loss: 0.6836 - acc: 0.7383 - val_loss: 0.4088 - val_acc: 0.8253\n",
      "Epoch 3/3\n",
      "21250/21250 [==============================] - 61s - loss: 0.6118 - acc: 0.8366 - val_loss: 0.3928 - val_acc: 0.8776\n"
     ]
    },
    {
     "data": {
      "text/plain": [
       "<keras.callbacks.History at 0x7f8157047090>"
      ]
     },
     "execution_count": 58,
     "metadata": {},
     "output_type": "execute_result"
    }
   ],
   "source": [
    "rnn.fit(train_x, train_y, validation_data=(val_x, val_y), nb_epoch=3, batch_size=64)"
   ]
  },
  {
   "cell_type": "code",
   "execution_count": 60,
   "metadata": {},
   "outputs": [
    {
     "data": {
      "text/plain": [
       "(0.88853333333333329, 0.95046789406260235)"
      ]
     },
     "execution_count": 60,
     "metadata": {},
     "output_type": "execute_result"
    }
   ],
   "source": [
    "from sklearn.metrics import roc_auc_score\n",
    "rnn.load_weights(model_path+\"imdb_rnn.h5\")\n",
    "pred_val = rnn.predict(val_x, batch_size=128)\n",
    "np.mean((pred_val.ravel()>=0.5).astype('int8') == val_y), roc_auc_score(val_y, pred_val)"
   ]
  },
  {
   "cell_type": "markdown",
   "metadata": {},
   "source": [
    "### Gated recurrent unit"
   ]
  },
  {
   "cell_type": "code",
   "execution_count": 22,
   "metadata": {
    "collapsed": true
   },
   "outputs": [],
   "source": [
    "gru = Sequential([\n",
    "    Embedding(vocab_size+1, 32, input_length=seq_len, mask_zero=True),\n",
    "    GRU(64),\n",
    "    Dropout(0.25),\n",
    "    Dense(1, activation='sigmoid')])\n",
    "gru.compile(optimizer=RMSprop(), loss='binary_crossentropy', metrics=['accuracy'])\n",
    "#metricRecords = CallMetric()\n",
    "#checkpointer = kcb.ModelCheckpoint(filepath=model_path+\"imdb_gru.h5\", monitor='val_acc', \n",
    "#                                   save_best_only=True, verbose=1)"
   ]
  },
  {
   "cell_type": "code",
   "execution_count": 23,
   "metadata": {
    "scrolled": true
   },
   "outputs": [
    {
     "name": "stdout",
     "output_type": "stream",
     "text": [
      "Train on 21250 samples, validate on 3750 samples\n",
      "Epoch 1/3\n",
      "21250/21250 [==============================] - 58s - loss: 0.5124 - acc: 0.7424 - val_loss: 0.6286 - val_acc: 0.7869\n",
      "Epoch 2/3\n",
      "21250/21250 [==============================] - 58s - loss: 0.3097 - acc: 0.8784 - val_loss: 0.3370 - val_acc: 0.8701\n",
      "Epoch 3/3\n",
      "21250/21250 [==============================] - 58s - loss: 0.2503 - acc: 0.9056 - val_loss: 0.2631 - val_acc: 0.8987\n"
     ]
    },
    {
     "data": {
      "text/plain": [
       "<keras.callbacks.History at 0x7f10c43bf690>"
      ]
     },
     "execution_count": 23,
     "metadata": {},
     "output_type": "execute_result"
    }
   ],
   "source": [
    "gru.fit(train_x, train_y, validation_data=(val_x, val_y), nb_epoch=3, batch_size=128)"
   ]
  },
  {
   "cell_type": "code",
   "execution_count": 24,
   "metadata": {
    "scrolled": true
   },
   "outputs": [
    {
     "data": {
      "text/plain": [
       "0.96131151533359738"
      ]
     },
     "execution_count": 24,
     "metadata": {},
     "output_type": "execute_result"
    }
   ],
   "source": [
    "from sklearn.metrics import roc_auc_score\n",
    "pred_val = gru.predict(val_x, batch_size=128)\n",
    "roc_auc_score(val_y, pred_val)"
   ]
  },
  {
   "cell_type": "code",
   "execution_count": 28,
   "metadata": {
    "collapsed": true
   },
   "outputs": [],
   "source": [
    "from sklearn.metrics import confusion_matrix\n",
    "cm = confusion_matrix(val_y, [1.0 if p>0.5 else 0.0 for p in pred_val])"
   ]
  },
  {
   "cell_type": "code",
   "execution_count": 32,
   "metadata": {},
   "outputs": [
    {
     "data": {
      "text/plain": [
       "(0.50719999999999998, 0.49280000000000002)"
      ]
     },
     "execution_count": 32,
     "metadata": {},
     "output_type": "execute_result"
    }
   ],
   "source": [
    "np.mean(np.array(val_y) == np.ones(3750)), np.mean(np.array(val_y) == np.zeros(3750))"
   ]
  },
  {
   "cell_type": "code",
   "execution_count": 29,
   "metadata": {},
   "outputs": [
    {
     "data": {
      "text/plain": [
       "array([[ 0.4219,  0.0709],\n",
       "       [ 0.0304,  0.4768]])"
      ]
     },
     "execution_count": 29,
     "metadata": {},
     "output_type": "execute_result"
    }
   ],
   "source": [
    "# confusion matrix\n",
    "cm / np.sum(cm, dtype=np.float32)"
   ]
  },
  {
   "cell_type": "code",
   "execution_count": 33,
   "metadata": {},
   "outputs": [
    {
     "name": "stdout",
     "output_type": "stream",
     "text": [
      "[[1582  266]\n",
      " [ 114 1788]]\n"
     ]
    },
    {
     "data": {
      "image/png": "[encoded data removed]",
      "text/plain": [
       "<matplotlib.figure.Figure at 0x7f10bb4ec8d0>"
      ]
     },
     "metadata": {},
     "output_type": "display_data"
    }
   ],
   "source": [
    "plot_confusion_matrix(cm, ['negative', 'positive'])"
   ]
  },
  {
   "cell_type": "code",
   "execution_count": 27,
   "metadata": {},
   "outputs": [
    {
     "data": {
      "text/html": [
       "<p>The submission is <a href=\"imdb_gru.csv\">here</a>.</p>"
      ],
      "text/plain": [
       "<IPython.core.display.HTML object>"
      ]
     },
     "execution_count": 27,
     "metadata": {},
     "output_type": "execute_result"
    }
   ],
   "source": [
    "pred = gru.predict(test_x, batch_size=128)\n",
    "submit = pd.DataFrame({ 'id': test['id'], 'sentiment': pred[:,0] })\n",
    "submit.to_csv('imdb_gru.csv', index=False)\n",
    "from IPython.display import HTML\n",
    "HTML('<p>The submission is <a href=\"imdb_gru.csv\">here</a>.</p>')"
   ]
  },
  {
   "cell_type": "markdown",
   "metadata": {},
   "source": [
    "### Bi-directional recurrent net"
   ]
  },
  {
   "cell_type": "code",
   "execution_count": 15,
   "metadata": {
    "collapsed": true
   },
   "outputs": [],
   "source": [
    "bi_gru = Sequential([\n",
    "    Embedding(vocab_size, 32, input_length=seq_len, mask_zero=True),\n",
    "    Bidirectional(GRU(64)),\n",
    "    Dropout(0.25),\n",
    "    Dense(1, activation='sigmoid')])\n",
    "bi_gru.compile(optimizer=Adam(), loss='binary_crossentropy', metrics=['accuracy'])\n",
    "#metricRecords = CallMetric()\n",
    "#checkpointer = kcb.ModelCheckpoint(filepath=model_path+\"imdb_gru_bidir.h5\", monitor='val_acc', \n",
    "#                                   save_best_only=True, verbose=1)"
   ]
  },
  {
   "cell_type": "code",
   "execution_count": 17,
   "metadata": {},
   "outputs": [
    {
     "name": "stdout",
     "output_type": "stream",
     "text": [
      "Train on 21250 samples, validate on 3750 samples\n",
      "Epoch 1/2\n",
      "21250/21250 [==============================] - 115s - loss: 0.5693 - acc: 0.6873 - val_loss: 0.3075 - val_acc: 0.8827\n",
      "Epoch 2/2\n",
      "21250/21250 [==============================] - 115s - loss: 0.2691 - acc: 0.8930 - val_loss: 0.2669 - val_acc: 0.8915\n"
     ]
    },
    {
     "data": {
      "text/plain": [
       "<keras.callbacks.History at 0x7f10c0d68850>"
      ]
     },
     "execution_count": 17,
     "metadata": {},
     "output_type": "execute_result"
    }
   ],
   "source": [
    "bi_gru.fit(train_x, train_y, validation_data=(val_x, val_y), nb_epoch=2, batch_size=128)"
   ]
  },
  {
   "cell_type": "code",
   "execution_count": 18,
   "metadata": {
    "scrolled": true
   },
   "outputs": [
    {
     "data": {
      "text/plain": [
       "0.96043837427906831"
      ]
     },
     "execution_count": 18,
     "metadata": {},
     "output_type": "execute_result"
    }
   ],
   "source": [
    "from sklearn.metrics import roc_auc_score\n",
    "pred_val = bi_gru.predict(val_x, batch_size=128)\n",
    "roc_auc_score(val_y, pred_val)"
   ]
  },
  {
   "cell_type": "code",
   "execution_count": null,
   "metadata": {
    "collapsed": true
   },
   "outputs": [],
   "source": []
  }
 ],
 "metadata": {
  "kernelspec": {
   "display_name": "Python 2",
   "language": "python",
   "name": "python2"
  },
  "language_info": {
   "codemirror_mode": {
    "name": "ipython",
    "version": 2
   },
   "file_extension": ".py",
   "mimetype": "text/x-python",
   "name": "python",
   "nbconvert_exporter": "python",
   "pygments_lexer": "ipython2",
   "version": "2.7.13"
  }
 },
 "nbformat": 4,
 "nbformat_minor": 2
}
